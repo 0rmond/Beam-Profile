{
 "cells": [
  {
   "cell_type": "markdown",
   "id": "24d2ef5f-40b0-4249-af16-d252bfc121d3",
   "metadata": {},
   "source": [
    "# Measuring Beam Profile"
   ]
  },
  {
   "cell_type": "markdown",
   "id": "c74efa7f-6fa6-4c8c-9812-f9e23be5009c",
   "metadata": {},
   "source": [
    "## Methodology"
   ]
  },
  {
   "cell_type": "markdown",
   "id": "37b8a549-d64d-49ec-b229-8e7651cbefbf",
   "metadata": {},
   "source": [
    "0. Ensure the alignment is good: The translation stage will move orthogonal to the propagation of the beam and the pinhole is set at the correct height.\n",
    "1. Start by positioning the pinhole outside of the beam's spot (check with a fluorescent laser card if needed).\n",
    "2. Log the position of micrometer.\n",
    "3. Measure 20 samples of the power (~5 seconds of recording using ThorLabs power meter).\n",
    "4. Record the mean power and the standard deviation.\n",
    "5. Translate the pinhole by a certain interval.\n",
    "6. Repeat steps 2-5 until you've traversed a cross-section of the beam.\n",
    "\n",
    "Once the beam profile was measured and plotted, two dotted lines were drawn on top. These lines represent the `1/e^2` portion of the beam, which is the convention used by Thorlabs when quoting beam diameters/radii."
   ]
  },
  {
   "cell_type": "markdown",
   "id": "f1930c6b-32bc-4694-b4b9-78b7928279b1",
   "metadata": {},
   "source": [
    "## Results\n",
    "\n",
    "A spot-size of 2.3mm was found. The light comes out of the collimator at 2.27mm and the measurement was taken only 15cm from the collimator. Since the light is expected to expand as it propagates through free-space, this result is more-or-less what was expected!\n",
    "\n",
    "As was intended, the data collection was complete overkill in the following ways:\n",
    "\n",
    "* Number of samples (~20) per measurement: The std deviation was tiny w.r.t the mean.\n",
    "* Number of points (~60): Figure 2 shows that I measured too much of the peak's head and tail. We can reach the same spot size by cutting off the first and last 15 point\n",
    "* Interval (100um): This is where a delicate balance must be struck. From Figure 3, taking intervals of 200um (after cutting off the head and tail) reduces the accuracy of the fitting. The percentage difference between this new spot size and the more accurate one is 4.5%."
   ]
  },
  {
   "cell_type": "code",
   "execution_count": 1,
   "id": "3bb5151d-eb17-4cfb-a85c-287b57097191",
   "metadata": {},
   "outputs": [
    {
     "ename": "NameError",
     "evalue": "name 'get_fit' is not defined",
     "output_type": "error",
     "traceback": [
      "\u001b[0;31m---------------------------------------------------------------------------\u001b[0m",
      "\u001b[0;31mNameError\u001b[0m                                 Traceback (most recent call last)",
      "Cell \u001b[0;32mIn[1], line 9\u001b[0m\n\u001b[1;32m      7\u001b[0m half_the_data \u001b[38;5;241m=\u001b[39m norm_data\u001b[38;5;241m.\u001b[39miloc[\u001b[38;5;241m15\u001b[39m:\u001b[38;5;241m45\u001b[39m]\n\u001b[1;32m      8\u001b[0m large_intervals \u001b[38;5;241m=\u001b[39m half_the_data\u001b[38;5;241m.\u001b[39miloc[::\u001b[38;5;241m2\u001b[39m]\n\u001b[0;32m----> 9\u001b[0m \u001b[43mplot_results\u001b[49m\u001b[43m(\u001b[49m\u001b[43mnorm_data\u001b[49m\u001b[43m,\u001b[49m\u001b[43m \u001b[49m\u001b[38;5;124;43m\"\u001b[39;49m\u001b[38;5;124;43mFigure 1: Beam Profile of collimated 1550nm light\u001b[39;49m\u001b[38;5;124;43m\"\u001b[39;49m\u001b[43m)\u001b[49m\n\u001b[1;32m     10\u001b[0m \u001b[38;5;66;03m#plot_results(half_the_data, \"Figure 2: Same profile with reduced 'head' and 'tail'\")\u001b[39;00m\n\u001b[1;32m     11\u001b[0m \u001b[38;5;66;03m#plot_results(large_intervals, \"Figure 3: Same profile with reduced 'head' & 'tail' and half the data points\")\u001b[39;00m\n\u001b[1;32m     12\u001b[0m plt\u001b[38;5;241m.\u001b[39mshow()\n",
      "File \u001b[0;32m~/dev/PhD/OT/Analysis/Beam-Profile/plot.py:41\u001b[0m, in \u001b[0;36mplot_results\u001b[0;34m(dataframe, title)\u001b[0m\n\u001b[1;32m     38\u001b[0m ys \u001b[38;5;241m=\u001b[39m dataframe[dataframe\u001b[38;5;241m.\u001b[39mcolumns[\u001b[38;5;241m0\u001b[39m]]\n\u001b[1;32m     39\u001b[0m sigmas \u001b[38;5;241m=\u001b[39m dataframe[dataframe\u001b[38;5;241m.\u001b[39mcolumns[\u001b[38;5;241m1\u001b[39m]]\n\u001b[0;32m---> 41\u001b[0m fit_ys, coeffs \u001b[38;5;241m=\u001b[39m \u001b[43mget_fit\u001b[49m(xs, ys)\n\u001b[1;32m     42\u001b[0m lower_bound, upper_bound \u001b[38;5;241m=\u001b[39m get_e_squared_range(xs, fit_ys)\n\u001b[1;32m     43\u001b[0m waist_size \u001b[38;5;241m=\u001b[39m upper_bound \u001b[38;5;241m-\u001b[39m lower_bound\n",
      "\u001b[0;31mNameError\u001b[0m: name 'get_fit' is not defined"
     ]
    }
   ],
   "source": [
    "from analyse import get_data, normalise_data\n",
    "from plot import plot_results\n",
    "import matplotlib.pyplot as plt\n",
    "df = get_data(\"./Data/\",\"first-recording.csv\", ',')\n",
    "\n",
    "norm_data = normalise_data(df)\n",
    "half_the_data = norm_data.iloc[15:45]\n",
    "large_intervals = half_the_data.iloc[::2]\n",
    "plot_results(norm_data, \"Figure 1: Beam Profile of collimated 1550nm light\")\n",
    "#plot_results(half_the_data, \"Figure 2: Same profile with reduced 'head' and 'tail'\")\n",
    "#plot_results(large_intervals, \"Figure 3: Same profile with reduced 'head' & 'tail' and half the data points\")\n",
    "plt.show()"
   ]
  },
  {
   "cell_type": "markdown",
   "id": "32501b52-ec7b-4897-9b9a-f0a3728f3774",
   "metadata": {},
   "source": [
    "## Conclusion\n",
    "\n",
    "The methodology should be changed:\n",
    "\n",
    "* At the start, move to a minimum power that is just outside of where the power starts to ramp up (ie. just at the beginning of the tail/head).\n",
    "* Take intervals of 150um.\n",
    "* Since the 1/e^2 width is based on the peak, it's much more important to get a good sweep of this region instead of the head+tail\n",
    "* Just type the values in directly into a spreadsheet instead of writing them down first!\n",
    "\n",
    "## Faulty Conclusion!\n",
    "\n",
    "Unfortunately, when I wrote this, I took half the data from the already-normalised-data. This meant that the model was still essentially based on the original data!\n",
    "This conclusion informed the methodology for the second position's data collection.\n",
    "The following plots are what _actually_ happen:\n"
   ]
  },
  {
   "cell_type": "code",
   "execution_count": null,
   "id": "722daa20-0e2a-47c8-b9e0-35771e16df62",
   "metadata": {},
   "outputs": [],
   "source": [
    "df = get_data(\"./Data/\",\"first-recording.csv\", ',')\n",
    "norm_data = normalise_data(df)\n",
    "half_the_data = normalise_data(df.iloc[15:45])\n",
    "large_intervals_half_data = normalise_data(df.iloc[15:45].iloc[::2])\n",
    "large_intervals = normalise_data(df.iloc[::2])\n",
    "plot_results(norm_data, \"Figure 1: Beam Profile of collimated 1550nm light\")\n",
    "plot_results(large_intervals, \"Figure 2: Same profile with double the interval\")\n",
    "plot_results(half_the_data, \"Figure 3: Same profile with reduced 'head' and 'tail'\")\n",
    "plot_results(large_intervals_half_data, \"Figure 4: Same profile with reduced 'head' & 'tail' and half the data points\")\n"
   ]
  },
  {
   "cell_type": "markdown",
   "id": "0d2e6e34-5d3f-473e-9b02-7046f457ea29",
   "metadata": {},
   "source": [
    "## REAL Conclusion!\n",
    "\n",
    "Clearly, the head and tail are *very* important!! It's not something I should be leaving out.\n",
    "From the large interval plot (Figure 2), it is clear that the head and tail don't need a small interval. We can get away with double the interval here. So let's try the following intervals:\n",
    "\n",
    "* 0-15%: 150um\n",
    "* 15-80%: 100um\n",
    "* 80-100%: 50um"
   ]
  },
  {
   "cell_type": "markdown",
   "id": "b44ddeb6-5290-4e79-b9e6-844d5c621c02",
   "metadata": {},
   "source": [
    "# First Position, higher power"
   ]
  },
  {
   "cell_type": "markdown",
   "id": "3c014c4c-5aea-4389-b085-4ac5c60d7b8c",
   "metadata": {},
   "source": [
    "This was done at a higher power compared to the first, ~5mW this time.\n",
    "The start was chosen by taking 10% of the peak.\n",
    "Increments of 150um were taken until 50% of the peak was reached, wherefrom 100um increments were taken"
   ]
  },
  {
   "cell_type": "code",
   "execution_count": null,
   "id": "dc7bb5fd-5bf0-446e-b6b1-75f65870f9f8",
   "metadata": {},
   "outputs": [],
   "source": [
    "df = get_data(\"./Data/\",\"first-2.csv\", ',')\n",
    "\n",
    "norm_data = normalise_data(df)\n",
    "plot_results(norm_data, \"Figure 4: Beam Profile of collimated 1550nm light\")\n",
    "\n",
    "df = get_data(\"./Data/\",\"first-3.csv\", ',')\n",
    "\n",
    "norm_data = normalise_data(df)\n",
    "plot_results(norm_data, \"Figure 4: Beam Profile of collimated 1550nm light\")\n",
    "plt.show()"
   ]
  },
  {
   "cell_type": "markdown",
   "id": "eda321a1-d326-4688-8060-d9e1bcac3d5d",
   "metadata": {},
   "source": [
    "The same was then repeated at a lower power: ~500um"
   ]
  },
  {
   "cell_type": "markdown",
   "id": "0bfd27f0-3146-40ea-bd33-53a421f300a0",
   "metadata": {},
   "source": [
    "# Estimating Beam Waist & Position"
   ]
  },
  {
   "cell_type": "markdown",
   "id": "b8ad3773-e6d0-42e9-8893-4f0518653dc1",
   "metadata": {},
   "source": [
    "This is next! I now need to repeat this with at least one other measurement of the beam profile."
   ]
  },
  {
   "cell_type": "code",
   "execution_count": null,
   "id": "7d810ffe-cac8-43b7-a631-d9e009dbc046",
   "metadata": {},
   "outputs": [],
   "source": [
    "from analyse import plot_parametric\n",
    "plot_parametric()"
   ]
  },
  {
   "cell_type": "code",
   "execution_count": null,
   "id": "05917fb8-720a-40a0-92a1-31e925720a34",
   "metadata": {},
   "outputs": [],
   "source": []
  }
 ],
 "metadata": {
  "kernelspec": {
   "display_name": "Python 3 (ipykernel)",
   "language": "python",
   "name": "python3"
  },
  "language_info": {
   "codemirror_mode": {
    "name": "ipython",
    "version": 3
   },
   "file_extension": ".py",
   "mimetype": "text/x-python",
   "name": "python",
   "nbconvert_exporter": "python",
   "pygments_lexer": "ipython3",
   "version": "3.8.10"
  }
 },
 "nbformat": 4,
 "nbformat_minor": 5
}
